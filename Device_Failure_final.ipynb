{
 "cells": [
  {
   "cell_type": "markdown",
   "metadata": {},
   "source": [
    "# 3D Technologies\n",
    "### Reduce Maintainance cost through predictive Techniques\n",
    "August 2017  \n",
    "\n",
    "Harsh Jain  \n"
   ]
  },
  {
   "cell_type": "markdown",
   "metadata": {},
   "source": [
    "# Introduction\n",
    "\n",
    "<b>\n",
    "An engagement to build a Machine Learning model to predict probability of device failure.  \n",
    "</b>\n",
    "\n",
    "<b> Goal: </b> Predict PROBABILITY of device failure.\n",
    "\n",
    "<b>Knowns: </b>\n",
    "- Data is daily aggregated telemetry attributes.\n",
    "- Response variable is 'failure' with binary value 0 for non-failure and 1 for failure.\n",
    "- Need to minimize false positives and false negatives. \n",
    "\n",
    "\n",
    "<b>Assumptions: </b>\n",
    "- This a classification problem and therefore will require Supervised Learning algorithms. \n",
    "- Deep Learning will be considered out of scope for this engagement. \n",
    "\n",
    "<b>Outline of the solution:</b>\n",
    "1. Importing librararies and Data\n",
    "2. Explore and Visualize the Data\n",
    "3. Build a Benchmark model \n",
    "4. Build a Robust Classification algorithms.  \n",
    "    4.1 Stratified K-fold Cross Validation  \n",
    "    4.2 Hyperparameter tuning\n",
    "    4.3 Fit and Predict\n",
    "5. Metrics  \n",
    "    5.1 Confusion Matrix and Classification Report  \n",
    "    5.2 ROC curves and AUC  \n",
    "6. Results\n",
    "7. Conclusion\n",
    "***"
   ]
  },
  {
   "cell_type": "markdown",
   "metadata": {},
   "source": [
    "# Importing Libraries and Load Data"
   ]
  },
  {
   "cell_type": "code",
   "execution_count": 2,
   "metadata": {
    "collapsed": false
   },
   "outputs": [],
   "source": [
    "import numpy as np\n",
    "import pandas as pd\n",
    "import matplotlib.pyplot as plt\n",
    "\n",
    "from sklearn.tree import DecisionTreeClassifier\n",
    "from sklearn.ensemble import RandomForestClassifier\n",
    "from sklearn.linear_model import LogisticRegression\n",
    "from sklearn.naive_bayes import GaussianNB\n",
    "\n",
    "from sklearn.model_selection import GridSearchCV, StratifiedKFold, train_test_split\n",
    "from sklearn.metrics import confusion_matrix, classification_report, roc_curve, roc_auc_score"
   ]
  },
  {
   "cell_type": "code",
   "execution_count": 3,
   "metadata": {
    "collapsed": false
   },
   "outputs": [
    {
     "ename": "IOError",
     "evalue": "File device_failure.csv does not exist",
     "output_type": "error",
     "traceback": [
      "\u001b[0;31m\u001b[0m",
      "\u001b[0;31mIOError\u001b[0mTraceback (most recent call last)",
      "\u001b[0;32m<ipython-input-3-ae6ef6ccdfbf>\u001b[0m in \u001b[0;36m<module>\u001b[0;34m()\u001b[0m\n\u001b[0;32m----> 1\u001b[0;31m \u001b[0mdata\u001b[0m \u001b[0;34m=\u001b[0m \u001b[0mpd\u001b[0m\u001b[0;34m.\u001b[0m\u001b[0mread_csv\u001b[0m\u001b[0;34m(\u001b[0m\u001b[0;34m'device_failure.csv'\u001b[0m\u001b[0;34m)\u001b[0m\u001b[0;34m\u001b[0m\u001b[0m\n\u001b[0m",
      "\u001b[0;32m/opt/wakari/anaconda/lib/python2.7/site-packages/pandas/io/parsers.pyc\u001b[0m in \u001b[0;36mparser_f\u001b[0;34m(filepath_or_buffer, sep, delimiter, header, names, index_col, usecols, squeeze, prefix, mangle_dupe_cols, dtype, engine, converters, true_values, false_values, skipinitialspace, skiprows, nrows, na_values, keep_default_na, na_filter, verbose, skip_blank_lines, parse_dates, infer_datetime_format, keep_date_col, date_parser, dayfirst, iterator, chunksize, compression, thousands, decimal, lineterminator, quotechar, quoting, escapechar, comment, encoding, dialect, tupleize_cols, error_bad_lines, warn_bad_lines, skipfooter, skip_footer, doublequote, delim_whitespace, as_recarray, compact_ints, use_unsigned, low_memory, buffer_lines, memory_map, float_precision)\u001b[0m\n\u001b[1;32m    644\u001b[0m                     skip_blank_lines=skip_blank_lines)\n\u001b[1;32m    645\u001b[0m \u001b[0;34m\u001b[0m\u001b[0m\n\u001b[0;32m--> 646\u001b[0;31m         \u001b[0;32mreturn\u001b[0m \u001b[0m_read\u001b[0m\u001b[0;34m(\u001b[0m\u001b[0mfilepath_or_buffer\u001b[0m\u001b[0;34m,\u001b[0m \u001b[0mkwds\u001b[0m\u001b[0;34m)\u001b[0m\u001b[0;34m\u001b[0m\u001b[0m\n\u001b[0m\u001b[1;32m    647\u001b[0m \u001b[0;34m\u001b[0m\u001b[0m\n\u001b[1;32m    648\u001b[0m     \u001b[0mparser_f\u001b[0m\u001b[0;34m.\u001b[0m\u001b[0m__name__\u001b[0m \u001b[0;34m=\u001b[0m \u001b[0mname\u001b[0m\u001b[0;34m\u001b[0m\u001b[0m\n",
      "\u001b[0;32m/opt/wakari/anaconda/lib/python2.7/site-packages/pandas/io/parsers.pyc\u001b[0m in \u001b[0;36m_read\u001b[0;34m(filepath_or_buffer, kwds)\u001b[0m\n\u001b[1;32m    387\u001b[0m \u001b[0;34m\u001b[0m\u001b[0m\n\u001b[1;32m    388\u001b[0m     \u001b[0;31m# Create the parser.\u001b[0m\u001b[0;34m\u001b[0m\u001b[0;34m\u001b[0m\u001b[0m\n\u001b[0;32m--> 389\u001b[0;31m     \u001b[0mparser\u001b[0m \u001b[0;34m=\u001b[0m \u001b[0mTextFileReader\u001b[0m\u001b[0;34m(\u001b[0m\u001b[0mfilepath_or_buffer\u001b[0m\u001b[0;34m,\u001b[0m \u001b[0;34m**\u001b[0m\u001b[0mkwds\u001b[0m\u001b[0;34m)\u001b[0m\u001b[0;34m\u001b[0m\u001b[0m\n\u001b[0m\u001b[1;32m    390\u001b[0m \u001b[0;34m\u001b[0m\u001b[0m\n\u001b[1;32m    391\u001b[0m     \u001b[0;32mif\u001b[0m \u001b[0;34m(\u001b[0m\u001b[0mnrows\u001b[0m \u001b[0;32mis\u001b[0m \u001b[0;32mnot\u001b[0m \u001b[0mNone\u001b[0m\u001b[0;34m)\u001b[0m \u001b[0;32mand\u001b[0m \u001b[0;34m(\u001b[0m\u001b[0mchunksize\u001b[0m \u001b[0;32mis\u001b[0m \u001b[0;32mnot\u001b[0m \u001b[0mNone\u001b[0m\u001b[0;34m)\u001b[0m\u001b[0;34m:\u001b[0m\u001b[0;34m\u001b[0m\u001b[0m\n",
      "\u001b[0;32m/opt/wakari/anaconda/lib/python2.7/site-packages/pandas/io/parsers.pyc\u001b[0m in \u001b[0;36m__init__\u001b[0;34m(self, f, engine, **kwds)\u001b[0m\n\u001b[1;32m    728\u001b[0m             \u001b[0mself\u001b[0m\u001b[0;34m.\u001b[0m\u001b[0moptions\u001b[0m\u001b[0;34m[\u001b[0m\u001b[0;34m'has_index_names'\u001b[0m\u001b[0;34m]\u001b[0m \u001b[0;34m=\u001b[0m \u001b[0mkwds\u001b[0m\u001b[0;34m[\u001b[0m\u001b[0;34m'has_index_names'\u001b[0m\u001b[0;34m]\u001b[0m\u001b[0;34m\u001b[0m\u001b[0m\n\u001b[1;32m    729\u001b[0m \u001b[0;34m\u001b[0m\u001b[0m\n\u001b[0;32m--> 730\u001b[0;31m         \u001b[0mself\u001b[0m\u001b[0;34m.\u001b[0m\u001b[0m_make_engine\u001b[0m\u001b[0;34m(\u001b[0m\u001b[0mself\u001b[0m\u001b[0;34m.\u001b[0m\u001b[0mengine\u001b[0m\u001b[0;34m)\u001b[0m\u001b[0;34m\u001b[0m\u001b[0m\n\u001b[0m\u001b[1;32m    731\u001b[0m \u001b[0;34m\u001b[0m\u001b[0m\n\u001b[1;32m    732\u001b[0m     \u001b[0;32mdef\u001b[0m \u001b[0mclose\u001b[0m\u001b[0;34m(\u001b[0m\u001b[0mself\u001b[0m\u001b[0;34m)\u001b[0m\u001b[0;34m:\u001b[0m\u001b[0;34m\u001b[0m\u001b[0m\n",
      "\u001b[0;32m/opt/wakari/anaconda/lib/python2.7/site-packages/pandas/io/parsers.pyc\u001b[0m in \u001b[0;36m_make_engine\u001b[0;34m(self, engine)\u001b[0m\n\u001b[1;32m    921\u001b[0m     \u001b[0;32mdef\u001b[0m \u001b[0m_make_engine\u001b[0m\u001b[0;34m(\u001b[0m\u001b[0mself\u001b[0m\u001b[0;34m,\u001b[0m \u001b[0mengine\u001b[0m\u001b[0;34m=\u001b[0m\u001b[0;34m'c'\u001b[0m\u001b[0;34m)\u001b[0m\u001b[0;34m:\u001b[0m\u001b[0;34m\u001b[0m\u001b[0m\n\u001b[1;32m    922\u001b[0m         \u001b[0;32mif\u001b[0m \u001b[0mengine\u001b[0m \u001b[0;34m==\u001b[0m \u001b[0;34m'c'\u001b[0m\u001b[0;34m:\u001b[0m\u001b[0;34m\u001b[0m\u001b[0m\n\u001b[0;32m--> 923\u001b[0;31m             \u001b[0mself\u001b[0m\u001b[0;34m.\u001b[0m\u001b[0m_engine\u001b[0m \u001b[0;34m=\u001b[0m \u001b[0mCParserWrapper\u001b[0m\u001b[0;34m(\u001b[0m\u001b[0mself\u001b[0m\u001b[0;34m.\u001b[0m\u001b[0mf\u001b[0m\u001b[0;34m,\u001b[0m \u001b[0;34m**\u001b[0m\u001b[0mself\u001b[0m\u001b[0;34m.\u001b[0m\u001b[0moptions\u001b[0m\u001b[0;34m)\u001b[0m\u001b[0;34m\u001b[0m\u001b[0m\n\u001b[0m\u001b[1;32m    924\u001b[0m         \u001b[0;32melse\u001b[0m\u001b[0;34m:\u001b[0m\u001b[0;34m\u001b[0m\u001b[0m\n\u001b[1;32m    925\u001b[0m             \u001b[0;32mif\u001b[0m \u001b[0mengine\u001b[0m \u001b[0;34m==\u001b[0m \u001b[0;34m'python'\u001b[0m\u001b[0;34m:\u001b[0m\u001b[0;34m\u001b[0m\u001b[0m\n",
      "\u001b[0;32m/opt/wakari/anaconda/lib/python2.7/site-packages/pandas/io/parsers.pyc\u001b[0m in \u001b[0;36m__init__\u001b[0;34m(self, src, **kwds)\u001b[0m\n\u001b[1;32m   1388\u001b[0m         \u001b[0mkwds\u001b[0m\u001b[0;34m[\u001b[0m\u001b[0;34m'allow_leading_cols'\u001b[0m\u001b[0;34m]\u001b[0m \u001b[0;34m=\u001b[0m \u001b[0mself\u001b[0m\u001b[0;34m.\u001b[0m\u001b[0mindex_col\u001b[0m \u001b[0;32mis\u001b[0m \u001b[0;32mnot\u001b[0m \u001b[0mFalse\u001b[0m\u001b[0;34m\u001b[0m\u001b[0m\n\u001b[1;32m   1389\u001b[0m \u001b[0;34m\u001b[0m\u001b[0m\n\u001b[0;32m-> 1390\u001b[0;31m         \u001b[0mself\u001b[0m\u001b[0;34m.\u001b[0m\u001b[0m_reader\u001b[0m \u001b[0;34m=\u001b[0m \u001b[0m_parser\u001b[0m\u001b[0;34m.\u001b[0m\u001b[0mTextReader\u001b[0m\u001b[0;34m(\u001b[0m\u001b[0msrc\u001b[0m\u001b[0;34m,\u001b[0m \u001b[0;34m**\u001b[0m\u001b[0mkwds\u001b[0m\u001b[0;34m)\u001b[0m\u001b[0;34m\u001b[0m\u001b[0m\n\u001b[0m\u001b[1;32m   1391\u001b[0m \u001b[0;34m\u001b[0m\u001b[0m\n\u001b[1;32m   1392\u001b[0m         \u001b[0;31m# XXX\u001b[0m\u001b[0;34m\u001b[0m\u001b[0;34m\u001b[0m\u001b[0m\n",
      "\u001b[0;32mpandas/parser.pyx\u001b[0m in \u001b[0;36mpandas.parser.TextReader.__cinit__ (pandas/parser.c:4184)\u001b[0;34m()\u001b[0m\n",
      "\u001b[0;32mpandas/parser.pyx\u001b[0m in \u001b[0;36mpandas.parser.TextReader._setup_parser_source (pandas/parser.c:8449)\u001b[0;34m()\u001b[0m\n",
      "\u001b[0;31mIOError\u001b[0m: File device_failure.csv does not exist"
     ]
    }
   ],
   "source": [
    "data = pd.read_csv('device_failure.csv')"
   ]
  },
  {
   "cell_type": "markdown",
   "metadata": {},
   "source": [
    "***\n",
    "# Explore and Vizualize Data"
   ]
  },
  {
   "cell_type": "code",
   "execution_count": 18,
   "metadata": {
    "collapsed": false
   },
   "outputs": [
    {
     "data": {
      "text/html": [
       "<div>\n",
       "<table border=\"1\" class=\"dataframe\">\n",
       "  <thead>\n",
       "    <tr style=\"text-align: right;\">\n",
       "      <th></th>\n",
       "      <th>date</th>\n",
       "      <th>device</th>\n",
       "      <th>failure</th>\n",
       "      <th>attribute1</th>\n",
       "      <th>attribute2</th>\n",
       "      <th>attribute3</th>\n",
       "      <th>attribute4</th>\n",
       "      <th>attribute5</th>\n",
       "      <th>attribute6</th>\n",
       "      <th>attribute7</th>\n",
       "      <th>attribute8</th>\n",
       "      <th>attribute9</th>\n",
       "    </tr>\n",
       "  </thead>\n",
       "  <tbody>\n",
       "    <tr>\n",
       "      <th>0</th>\n",
       "      <td>2015-01-01</td>\n",
       "      <td>S1F01085</td>\n",
       "      <td>0</td>\n",
       "      <td>215630672</td>\n",
       "      <td>56</td>\n",
       "      <td>0</td>\n",
       "      <td>52</td>\n",
       "      <td>6</td>\n",
       "      <td>407438</td>\n",
       "      <td>0</td>\n",
       "      <td>0</td>\n",
       "      <td>7</td>\n",
       "    </tr>\n",
       "    <tr>\n",
       "      <th>1</th>\n",
       "      <td>2015-01-01</td>\n",
       "      <td>S1F0166B</td>\n",
       "      <td>0</td>\n",
       "      <td>61370680</td>\n",
       "      <td>0</td>\n",
       "      <td>3</td>\n",
       "      <td>0</td>\n",
       "      <td>6</td>\n",
       "      <td>403174</td>\n",
       "      <td>0</td>\n",
       "      <td>0</td>\n",
       "      <td>0</td>\n",
       "    </tr>\n",
       "    <tr>\n",
       "      <th>2</th>\n",
       "      <td>2015-01-01</td>\n",
       "      <td>S1F01E6Y</td>\n",
       "      <td>0</td>\n",
       "      <td>173295968</td>\n",
       "      <td>0</td>\n",
       "      <td>0</td>\n",
       "      <td>0</td>\n",
       "      <td>12</td>\n",
       "      <td>237394</td>\n",
       "      <td>0</td>\n",
       "      <td>0</td>\n",
       "      <td>0</td>\n",
       "    </tr>\n",
       "    <tr>\n",
       "      <th>3</th>\n",
       "      <td>2015-01-01</td>\n",
       "      <td>S1F01JE0</td>\n",
       "      <td>0</td>\n",
       "      <td>79694024</td>\n",
       "      <td>0</td>\n",
       "      <td>0</td>\n",
       "      <td>0</td>\n",
       "      <td>6</td>\n",
       "      <td>410186</td>\n",
       "      <td>0</td>\n",
       "      <td>0</td>\n",
       "      <td>0</td>\n",
       "    </tr>\n",
       "    <tr>\n",
       "      <th>4</th>\n",
       "      <td>2015-01-01</td>\n",
       "      <td>S1F01R2B</td>\n",
       "      <td>0</td>\n",
       "      <td>135970480</td>\n",
       "      <td>0</td>\n",
       "      <td>0</td>\n",
       "      <td>0</td>\n",
       "      <td>15</td>\n",
       "      <td>313173</td>\n",
       "      <td>0</td>\n",
       "      <td>0</td>\n",
       "      <td>3</td>\n",
       "    </tr>\n",
       "  </tbody>\n",
       "</table>\n",
       "</div>"
      ],
      "text/plain": [
       "         date    device  failure  attribute1  attribute2  attribute3  \\\n",
       "0  2015-01-01  S1F01085        0   215630672          56           0   \n",
       "1  2015-01-01  S1F0166B        0    61370680           0           3   \n",
       "2  2015-01-01  S1F01E6Y        0   173295968           0           0   \n",
       "3  2015-01-01  S1F01JE0        0    79694024           0           0   \n",
       "4  2015-01-01  S1F01R2B        0   135970480           0           0   \n",
       "\n",
       "   attribute4  attribute5  attribute6  attribute7  attribute8  attribute9  \n",
       "0          52           6      407438           0           0           7  \n",
       "1           0           6      403174           0           0           0  \n",
       "2           0          12      237394           0           0           0  \n",
       "3           0           6      410186           0           0           0  \n",
       "4           0          15      313173           0           0           3  "
      ]
     },
     "execution_count": 18,
     "metadata": {},
     "output_type": "execute_result"
    }
   ],
   "source": [
    "data.head()"
   ]
  },
  {
   "cell_type": "code",
   "execution_count": 19,
   "metadata": {
    "collapsed": false,
    "scrolled": true
   },
   "outputs": [
    {
     "name": "stdout",
     "output_type": "stream",
     "text": [
      "<class 'pandas.core.frame.DataFrame'>\n",
      "RangeIndex: 124494 entries, 0 to 124493\n",
      "Data columns (total 12 columns):\n",
      "date          124494 non-null object\n",
      "device        124494 non-null object\n",
      "failure       124494 non-null int64\n",
      "attribute1    124494 non-null int64\n",
      "attribute2    124494 non-null int64\n",
      "attribute3    124494 non-null int64\n",
      "attribute4    124494 non-null int64\n",
      "attribute5    124494 non-null int64\n",
      "attribute6    124494 non-null int64\n",
      "attribute7    124494 non-null int64\n",
      "attribute8    124494 non-null int64\n",
      "attribute9    124494 non-null int64\n",
      "dtypes: int64(10), object(2)\n",
      "memory usage: 11.4+ MB\n"
     ]
    }
   ],
   "source": [
    "data.info()"
   ]
  },
  {
   "cell_type": "markdown",
   "metadata": {},
   "source": [
    "### Observations\n",
    "No Categorical features  \n",
    "No Missing Data. Probably has 0's or other 'filler values'  \n",
    "Homogeneous Data types for attributes.  \n",
    "Date field - may need to take into account. Correlation? \n",
    "\n",
    "***"
   ]
  },
  {
   "cell_type": "markdown",
   "metadata": {},
   "source": [
    "### Please double check these calculations!"
   ]
  },
  {
   "cell_type": "code",
   "execution_count": 20,
   "metadata": {
    "collapsed": false
   },
   "outputs": [
    {
     "data": {
      "text/html": [
       "<div>\n",
       "<table border=\"1\" class=\"dataframe\">\n",
       "  <thead>\n",
       "    <tr style=\"text-align: right;\">\n",
       "      <th></th>\n",
       "      <th>failure</th>\n",
       "      <th>attribute1</th>\n",
       "      <th>attribute2</th>\n",
       "      <th>attribute3</th>\n",
       "      <th>attribute4</th>\n",
       "      <th>attribute5</th>\n",
       "      <th>attribute6</th>\n",
       "      <th>attribute7</th>\n",
       "      <th>attribute8</th>\n",
       "      <th>attribute9</th>\n",
       "    </tr>\n",
       "  </thead>\n",
       "  <tbody>\n",
       "    <tr>\n",
       "      <th>count</th>\n",
       "      <td>124494.000000</td>\n",
       "      <td>1.244940e+05</td>\n",
       "      <td>124494.000000</td>\n",
       "      <td>124494.000000</td>\n",
       "      <td>124494.000000</td>\n",
       "      <td>124494.000000</td>\n",
       "      <td>124494.000000</td>\n",
       "      <td>124494.000000</td>\n",
       "      <td>124494.000000</td>\n",
       "      <td>124494.000000</td>\n",
       "    </tr>\n",
       "    <tr>\n",
       "      <th>mean</th>\n",
       "      <td>0.000851</td>\n",
       "      <td>1.223868e+08</td>\n",
       "      <td>159.484762</td>\n",
       "      <td>9.940455</td>\n",
       "      <td>1.741120</td>\n",
       "      <td>14.222693</td>\n",
       "      <td>260172.858025</td>\n",
       "      <td>0.292528</td>\n",
       "      <td>0.292528</td>\n",
       "      <td>12.451524</td>\n",
       "    </tr>\n",
       "    <tr>\n",
       "      <th>std</th>\n",
       "      <td>0.029167</td>\n",
       "      <td>7.045960e+07</td>\n",
       "      <td>2179.657730</td>\n",
       "      <td>185.747321</td>\n",
       "      <td>22.908507</td>\n",
       "      <td>15.943021</td>\n",
       "      <td>99151.009852</td>\n",
       "      <td>7.436924</td>\n",
       "      <td>7.436924</td>\n",
       "      <td>191.425623</td>\n",
       "    </tr>\n",
       "    <tr>\n",
       "      <th>min</th>\n",
       "      <td>0.000000</td>\n",
       "      <td>0.000000e+00</td>\n",
       "      <td>0.000000</td>\n",
       "      <td>0.000000</td>\n",
       "      <td>0.000000</td>\n",
       "      <td>1.000000</td>\n",
       "      <td>8.000000</td>\n",
       "      <td>0.000000</td>\n",
       "      <td>0.000000</td>\n",
       "      <td>0.000000</td>\n",
       "    </tr>\n",
       "    <tr>\n",
       "      <th>25%</th>\n",
       "      <td>0.000000</td>\n",
       "      <td>6.127675e+07</td>\n",
       "      <td>0.000000</td>\n",
       "      <td>0.000000</td>\n",
       "      <td>0.000000</td>\n",
       "      <td>8.000000</td>\n",
       "      <td>221452.000000</td>\n",
       "      <td>0.000000</td>\n",
       "      <td>0.000000</td>\n",
       "      <td>0.000000</td>\n",
       "    </tr>\n",
       "    <tr>\n",
       "      <th>50%</th>\n",
       "      <td>0.000000</td>\n",
       "      <td>1.227957e+08</td>\n",
       "      <td>0.000000</td>\n",
       "      <td>0.000000</td>\n",
       "      <td>0.000000</td>\n",
       "      <td>10.000000</td>\n",
       "      <td>249799.500000</td>\n",
       "      <td>0.000000</td>\n",
       "      <td>0.000000</td>\n",
       "      <td>0.000000</td>\n",
       "    </tr>\n",
       "    <tr>\n",
       "      <th>75%</th>\n",
       "      <td>0.000000</td>\n",
       "      <td>1.833084e+08</td>\n",
       "      <td>0.000000</td>\n",
       "      <td>0.000000</td>\n",
       "      <td>0.000000</td>\n",
       "      <td>12.000000</td>\n",
       "      <td>310266.000000</td>\n",
       "      <td>0.000000</td>\n",
       "      <td>0.000000</td>\n",
       "      <td>0.000000</td>\n",
       "    </tr>\n",
       "    <tr>\n",
       "      <th>max</th>\n",
       "      <td>1.000000</td>\n",
       "      <td>2.441405e+08</td>\n",
       "      <td>64968.000000</td>\n",
       "      <td>24929.000000</td>\n",
       "      <td>1666.000000</td>\n",
       "      <td>98.000000</td>\n",
       "      <td>689161.000000</td>\n",
       "      <td>832.000000</td>\n",
       "      <td>832.000000</td>\n",
       "      <td>18701.000000</td>\n",
       "    </tr>\n",
       "  </tbody>\n",
       "</table>\n",
       "</div>"
      ],
      "text/plain": [
       "             failure    attribute1     attribute2     attribute3  \\\n",
       "count  124494.000000  1.244940e+05  124494.000000  124494.000000   \n",
       "mean        0.000851  1.223868e+08     159.484762       9.940455   \n",
       "std         0.029167  7.045960e+07    2179.657730     185.747321   \n",
       "min         0.000000  0.000000e+00       0.000000       0.000000   \n",
       "25%         0.000000  6.127675e+07       0.000000       0.000000   \n",
       "50%         0.000000  1.227957e+08       0.000000       0.000000   \n",
       "75%         0.000000  1.833084e+08       0.000000       0.000000   \n",
       "max         1.000000  2.441405e+08   64968.000000   24929.000000   \n",
       "\n",
       "          attribute4     attribute5     attribute6     attribute7  \\\n",
       "count  124494.000000  124494.000000  124494.000000  124494.000000   \n",
       "mean        1.741120      14.222693  260172.858025       0.292528   \n",
       "std        22.908507      15.943021   99151.009852       7.436924   \n",
       "min         0.000000       1.000000       8.000000       0.000000   \n",
       "25%         0.000000       8.000000  221452.000000       0.000000   \n",
       "50%         0.000000      10.000000  249799.500000       0.000000   \n",
       "75%         0.000000      12.000000  310266.000000       0.000000   \n",
       "max      1666.000000      98.000000  689161.000000     832.000000   \n",
       "\n",
       "          attribute8     attribute9  \n",
       "count  124494.000000  124494.000000  \n",
       "mean        0.292528      12.451524  \n",
       "std         7.436924     191.425623  \n",
       "min         0.000000       0.000000  \n",
       "25%         0.000000       0.000000  \n",
       "50%         0.000000       0.000000  \n",
       "75%         0.000000       0.000000  \n",
       "max       832.000000   18701.000000  "
      ]
     },
     "execution_count": 20,
     "metadata": {},
     "output_type": "execute_result"
    }
   ],
   "source": [
    "data.describe()"
   ]
  },
  {
   "cell_type": "markdown",
   "metadata": {},
   "source": [
    "### Observations\n",
    "Most attributes have a min of 0.   \n",
    "Attribute 2,3,4,7,8,9 have 25%,50%,75% percentile = 0. This means this is a very sparse dataset, with most values = 0  \n",
    "Will validate this next.."
   ]
  },
  {
   "cell_type": "code",
   "execution_count": 21,
   "metadata": {
    "collapsed": false
   },
   "outputs": [
    {
     "name": "stdout",
     "output_type": "stream",
     "text": [
      "Attribute Non-zero count [124483, 6384, 9135, 9338, 124494, 124494, 1458, 1458, 27136]\n",
      "Attribute zero counts [11, 118110, 115359, 115156, 0, 0, 123036, 123036, 97358]\n"
     ]
    },
    {
     "data": {
      "image/png": "[encoded data removed]",
      "text/plain": [
       "<matplotlib.figure.Figure at 0x7f9e6d6e00d0>"
      ]
     },
     "metadata": {},
     "output_type": "display_data"
    }
   ],
   "source": [
    "#Zero count to validate assumption\n",
    "a = [np.count_nonzero(data.attribute1),np.count_nonzero(data.attribute2),\n",
    "    np.count_nonzero(data.attribute3),np.count_nonzero(data.attribute4),\n",
    "    np.count_nonzero(data.attribute5),np.count_nonzero(data.attribute6),\n",
    "    np.count_nonzero(data.attribute7),np.count_nonzero(data.attribute8),\n",
    "    np.count_nonzero(data.attribute9)]\n",
    "print 'Attribute Non-zero count', a\n",
    "\n",
    "zero_count = [(len(data) - x) for x in a]\n",
    "print 'Attribute zero counts', zero_count\n",
    "\n",
    "plt.bar(np.arange(1,10),zero_count, alpha=.5, color='r')\n",
    "plt.yscale('log')\n",
    "plt.xticks(np.arange(1,10))\n",
    "plt.xlabel('Attributes')\n",
    "plt.ylabel('Log Count of Zero values')\n",
    "plt.legend('0', loc='best')\n",
    "plt.show()"
   ]
  },
  {
   "cell_type": "code",
   "execution_count": 22,
   "metadata": {
    "collapsed": false
   },
   "outputs": [
    {
     "data": {
      "image/png": "[encoded data removed]",
      "text/plain": [
       "<matplotlib.figure.Figure at 0x7f9e6d6e0c10>"
      ]
     },
     "metadata": {},
     "output_type": "display_data"
    },
    {
     "name": "stdout",
     "output_type": "stream",
     "text": [
      "Count of failure:  106\n",
      "Rate of failure:  0.085 %\n"
     ]
    }
   ],
   "source": [
    "#Target variable exploration - Class imbalance? \n",
    "plt.hist(data.failure, bins=2, rwidth=.75, alpha=.5, align='mid')\n",
    "plt.xticks([0,1])\n",
    "plt.yscale('log')\n",
    "plt.show()\n",
    "fail_count = np.count_nonzero(data.failure)\n",
    "\n",
    "form = lambda x: \"%.3f\" % x\n",
    "\n",
    "print 'Count of failure: ', fail_count\n",
    "print 'Rate of failure: ', form(fail_count/float(len(data))*100), '%'"
   ]
  },
  {
   "cell_type": "code",
   "execution_count": 23,
   "metadata": {
    "collapsed": false,
    "scrolled": true
   },
   "outputs": [
    {
     "data": {
      "image/png": "[encoded data removed]",
      "text/plain": [
       "<matplotlib.figure.Figure at 0x7f9e6ca8d2d0>"
      ]
     },
     "metadata": {},
     "output_type": "display_data"
    },
    {
     "name": "stdout",
     "output_type": "stream",
     "text": [
      "Number of unique devices:  1168\n",
      "Percent of Device failure: 11.000 %\n"
     ]
    }
   ],
   "source": [
    "#Exploration by Device\n",
    "x_device_count = data.device.nunique()\n",
    "y_device_obs = data.device.value_counts()\n",
    "\n",
    "plt.plot(np.arange(0,x_device_count), y_device_obs)\n",
    "plt.xlabel('Unique Devices')\n",
    "plt.ylabel('Count of Observations by device')\n",
    "plt.show()\n",
    "print \"Number of unique devices: \", x_device_count\n",
    "print \"Percent of Device failure:\", form((x_device_count/fail_count)), '%'"
   ]
  },
  {
   "cell_type": "code",
   "execution_count": 24,
   "metadata": {
    "collapsed": false
   },
   "outputs": [
    {
     "data": {
      "image/png": "[encoded data removed]",
      "text/plain": [
       "<matplotlib.figure.Figure at 0x7f9e6cae0310>"
      ]
     },
     "metadata": {},
     "output_type": "display_data"
    },
    {
     "name": "stdout",
     "output_type": "stream",
     "text": [
      "Number of unique dates:  304\n",
      "Number of days with more than 2 Failures: 3\n"
     ]
    }
   ],
   "source": [
    "# Unique Dates and Number of obervations by Date [pre-sorted]\n",
    "x_date_count = data.date.nunique()\n",
    "y_day_plot = data.date.value_counts()\n",
    "plt.plot(np.arange(0,x_date_count), y_day_plot)\n",
    "plt.xlabel('Unique Dates (ordered)')\n",
    "plt.ylabel('Count of Observations')\n",
    "plt.show()\n",
    "\n",
    "bydate = data.date.groupby([data.failure[data.failure == 1], data.date]).count()\n",
    "bydate_count = bydate[bydate > 2].count()\n",
    "\n",
    "print \"Number of unique dates: \", x_date_count\n",
    "print \"Number of days with more than 2 Failures:\", bydate_count"
   ]
  },
  {
   "cell_type": "markdown",
   "metadata": {},
   "source": [
    "### Observations\n",
    "   \n",
    "All attributes other than 1,5,6 are are mostly 0 values.  \n",
    "Very high Class Imbalance in dataset.  \n",
    "Number of failures is 106 @ a 0.85% failure rate.  \n",
    "< 1 % of minority class. Will need to tune models to account for such 'rare' true positive events.   \n",
    "However, the total rate of device failure is not insignificant at @ 11%.  \n",
    "\n",
    "Date is highly correlated to the Number of observations in dataset. However, only 3 days have more than 2 failures.  \n",
    "- No co-relation of dates to failure.  \n",
    "- Co-relation of Number of observation to dates can be addressed by shuffling when creating Cross Validation sets.\n",
    "\n",
    "Need an algorithm that can handle highly skewed classes and sparse data.     \n",
    "Also will need a stratified k-fold CV to provide the largest possible dataset for training.        \n",
    "Use confusion matrix and AUC to measure, Minimize False Positives and False negatives. \n",
    "***"
   ]
  },
  {
   "cell_type": "markdown",
   "metadata": {},
   "source": [
    "# Build a Benchmark model\n",
    "\n",
    "Using a subset of data. Simple train/test split, no parameters or hyperparameter tuning. "
   ]
  },
  {
   "cell_type": "code",
   "execution_count": 25,
   "metadata": {
    "collapsed": false
   },
   "outputs": [],
   "source": [
    "#Subset and split\n",
    "bm_dtree = DecisionTreeClassifier()\n",
    "bm_x = data[['attribute1', 'attribute5','attribute6']]\n",
    "bm_y = data['failure']\n",
    "bm_x_train, bm_x_test, bm_y_train, bm_y_test = train_test_split(bm_x, bm_y, test_size=.25, stratify=bm_y, random_state=412)\n",
    "\n",
    "#Fit and Predict\n",
    "bm_dtree.fit(bm_x_train, bm_y_train)\n",
    "bm_predict = bm_dtree.predict_proba(bm_x_test)[:,1]"
   ]
  },
  {
   "cell_type": "code",
   "execution_count": 26,
   "metadata": {
    "collapsed": false
   },
   "outputs": [
    {
     "name": "stdout",
     "output_type": "stream",
     "text": [
      "Average probability of failure is 0.067 %\n",
      "Number of positive predictions: 21\n",
      "Accuracy: 0.998457781776\n"
     ]
    }
   ],
   "source": [
    "\n",
    "print 'Average probability of failure is', form((np.mean(bm_predict)*100)), '%'\n",
    "print 'Number of positive predictions:', np.count_nonzero(bm_predict)\n",
    "print 'Accuracy:', bm_dtree.score(bm_x_test, bm_y_test)"
   ]
  },
  {
   "cell_type": "code",
   "execution_count": 27,
   "metadata": {
    "collapsed": false
   },
   "outputs": [
    {
     "name": "stdout",
     "output_type": "stream",
     "text": [
      "Confusion Matrix \n",
      "[[31076    21]\n",
      " [   27     0]]\n",
      "             precision    recall  f1-score   support\n",
      "\n",
      "          1      0.000     0.000     0.000        27\n",
      "\n",
      "avg / total      0.000     0.000     0.000        27\n",
      "\n"
     ]
    }
   ],
   "source": [
    "print \"Confusion Matrix \\n\",confusion_matrix(bm_y_test, bm_predict)\n",
    "bm_fpr, bm_tpr, bm_threshold = roc_curve(bm_y_test, bm_predict)\n",
    "bm_report = classification_report(bm_y_test, bm_predict, labels=[1], digits=3)\n",
    "print bm_report"
   ]
  },
  {
   "cell_type": "markdown",
   "metadata": {},
   "source": [
    "### Observations\n",
    "- Even though \"Average probablility\" and \"Number of positive predictions\" seem reasonable and Accuracy is at 99.8% these aren't a good measure because this is a highly skewed dataset with over 99% majority class.\n",
    "- Measure using Confusion matrix, Precision, recall, F1 score, and AUC. This is a much better indicator or accuracy.   \n",
    "- When using a confusion matrix and AUC, its evident that the model completely fails at prediction of positive events in test dataset.    \n",
    "- With a minority class of < 1%, an AUC ~ 50% is not surprising and is expected due to the challenging nature of the data.   \n",
    "***"
   ]
  },
  {
   "cell_type": "markdown",
   "metadata": {},
   "source": [
    "# Build a Robust Model\n",
    "\n",
    "Techniques we can implement to build a tuned and robust model to optimize model performance: \n",
    "- Use the full attribute list  \n",
    "- Use multiple models to find which model performs best.  \n",
    "- Use GridSearchCV to estimate hyperparameters for the various models.  \n",
    "- Use Stratified KFold to split and cross-validate data to provide the largest possible training/test set.\n",
    "- Shuffle folds to minimize impact of date co-relation.\n",
    "- Use class weights to give importance to positive class. We can do this by using parameter 'class_weight' with a value = 'balanced'. This weight is calculated using n_samples / (n_classes * np.bincount(y)) and is equal to about 1: 585 in this case. [Reference](http://scikit-learn.org/stable/modules/generated/sklearn.linear_model.LogisticRegression.html) \n",
    "- Assuming misclassification cost of False Positives = False Negatives, the best indicator of model accuracy is the measure that takes both Precision and Recall into accout. \n",
    "    - To evaluate model performance, F1 score and AUC should be used.   \n",
    "    - Hyperparameters are also set to optimize for score='roc_auc'\n",
    "- The models we will use don't require standardization, so no scaling will be implemented.  \n",
    "\n",
    "Experiment using Supervised Learning Algorithms.  \n",
    "- Decision Tree - Simple classification model. Works well with sparse datasets.\n",
    "- Random Forest - Ensemble method to improve Decision tree performance and reduce individual feature variances.\n",
    "- Logistic Regression - Classic classifier that can handle sparse datasets. Output probablilities, can tune 'C' parameter. \n",
    "- Gaussian Naive Bayes - well documented and 'baseline' classifier. Especially for high bias problems like spam detection.\n",
    "\n",
    "Determine if and which algorithms are successful at predicting True Positives. Explore improvement techniques."
   ]
  },
  {
   "cell_type": "markdown",
   "metadata": {},
   "source": [
    "### Split Features and Response variable"
   ]
  },
  {
   "cell_type": "code",
   "execution_count": 28,
   "metadata": {
    "collapsed": false
   },
   "outputs": [],
   "source": [
    "x = data.drop(['date','device','failure'], axis=1)\n",
    "y = data['failure']"
   ]
  },
  {
   "cell_type": "code",
   "execution_count": 29,
   "metadata": {
    "collapsed": true
   },
   "outputs": [],
   "source": [
    "#Instantiate the various Classification algorithms to try\n",
    "dtree = DecisionTreeClassifier(class_weight='balanced')\n",
    "randf = RandomForestClassifier(class_weight='balanced')\n",
    "logreg = LogisticRegression(class_weight='balanced')\n",
    "gnb = GaussianNB()"
   ]
  },
  {
   "cell_type": "code",
   "execution_count": 30,
   "metadata": {
    "collapsed": false
   },
   "outputs": [],
   "source": [
    "#Hyperparameter grid\n",
    "dtree_paramgrid = {'max_depth': range(4,10)}\n",
    "randf_paramgrid = {'n_estimators': range(4,20,2), 'max_depth': range(4,10)}\n",
    "c_space = np.logspace(-3, 3, 7) \n",
    "logreg_paramgrid = {'C': c_space, 'penalty' : ('l1', 'l2')}\n",
    "\n",
    "x_cv_dtree = GridSearchCV(dtree, dtree_paramgrid, cv = 3, scoring='f1')\n",
    "x_cv_randf = GridSearchCV(randf, randf_paramgrid, cv = 3, scoring='f1')\n",
    "x_cv_logreg = GridSearchCV(logreg, logreg_paramgrid, cv = 3, scoring='f1')\n",
    "x_cv_gnb = gnb"
   ]
  },
  {
   "cell_type": "code",
   "execution_count": 32,
   "metadata": {
    "collapsed": false
   },
   "outputs": [
    {
     "name": "stdout",
     "output_type": "stream",
     "text": [
      "Split:  1\n",
      "Running Decision Tree...\n",
      "Running Random Forest...\n",
      "Running Logistic Regression...\n",
      "Running NaiveBayes...  \n",
      "\n",
      "Split:  2\n",
      "Running Decision Tree...\n",
      "Running Random Forest...\n",
      "Running Logistic Regression...\n",
      "Running NaiveBayes...  \n",
      "\n",
      "Split:  3\n",
      "Running Decision Tree...\n",
      "Running Random Forest...\n",
      "Running Logistic Regression...\n",
      "Running NaiveBayes...  \n",
      "\n",
      "Split:  4\n",
      "Running Decision Tree...\n",
      "Running Random Forest...\n",
      "Running Logistic Regression...\n"
     ]
    },
    {
     "name": "stderr",
     "output_type": "stream",
     "text": [
      "/opt/wakari/anaconda/lib/python2.7/site-packages/sklearn/linear_model/base.py:352: RuntimeWarning: overflow encountered in exp\n",
      "  np.exp(prob, prob)\n"
     ]
    },
    {
     "name": "stdout",
     "output_type": "stream",
     "text": [
      "Running NaiveBayes...  \n",
      "\n",
      "Split:  5\n",
      "Running Decision Tree...\n",
      "Running Random Forest...\n",
      "Running Logistic Regression...\n",
      "Running NaiveBayes...  \n",
      "\n"
     ]
    }
   ],
   "source": [
    "#Initialize counters\n",
    "i = 0\n",
    "k=5 #Folds\n",
    "y_test = y_dtree = y_randf = y_logreg = y_gnb = []\n",
    "\n",
    "#Stratified K-Fold Cross Validation\n",
    "skf = StratifiedKFold(n_splits=k, shuffle=True, random_state=412)\n",
    "\n",
    "for train,test in skf.split(x,y): \n",
    "    x_train, x_test = x.iloc[train], x.iloc[test]\n",
    "    y_train, y_test_fold = y.iloc[train], y.iloc[test]\n",
    "\n",
    "    #Fit and Predict\n",
    "    i += 1\n",
    "    print 'Split: ', i\n",
    "    \n",
    "    #dtree\n",
    "    print ('Running Decision Tree...')\n",
    "    x_cv_dtree.fit(x_train,y_train)\n",
    "    y_pred_dtree_proba = x_cv_dtree.predict_proba(x_test)[:,1]\n",
    "\n",
    "    #rand\n",
    "    print ('Running Random Forest...')\n",
    "    x_cv_randf.fit(x_train,y_train)\n",
    "    y_pred_randf_proba = x_cv_randf.predict_proba(x_test)[:,1]    \n",
    "\n",
    "    #logreg\n",
    "    print ('Running Logistic Regression...')\n",
    "    x_cv_logreg.fit(x_train,y_train)\n",
    "    y_pred_logreg_proba = x_cv_logreg.predict_proba(x_test)[:,1]    \n",
    "\n",
    "    #gnb\n",
    "    print 'Running NaiveBayes... ', '\\n'\n",
    "    x_cv_gnb.fit(x_train,y_train)\n",
    "    y_pred_gnb_proba = x_cv_gnb.predict_proba(x_test)[:,1]\n",
    "\n",
    "    #Complile Test and prediction results\n",
    "    y_test = np.append(y_test, y_test_fold)\n",
    "    y_dtree = np.append(y_dtree, y_pred_dtree_proba)\n",
    "    y_randf = np.append(y_randf, y_pred_randf_proba)\n",
    "    y_logreg = np.append(y_logreg, y_pred_logreg_proba)\n",
    "    y_gnb = np.append(y_gnb, y_pred_gnb_proba)"
   ]
  },
  {
   "cell_type": "code",
   "execution_count": 33,
   "metadata": {
    "collapsed": false
   },
   "outputs": [
    {
     "name": "stdout",
     "output_type": "stream",
     "text": [
      "Best Decision Tree Parameters: {'max_depth': 5}\n",
      "Best Random Forest Parameters: {'n_estimators': 12, 'max_depth': 8}\n",
      "Best Logistic Regression Parameters: {'penalty': 'l1', 'C': 100.0}\n",
      "Best Naive Bayes Parameters: N/A\n"
     ]
    }
   ],
   "source": [
    "# Best Parameters\n",
    "print 'Best Decision Tree Parameters:', x_cv_dtree.best_params_\n",
    "print 'Best Random Forest Parameters:', x_cv_randf.best_params_\n",
    "print 'Best Logistic Regression Parameters:', x_cv_logreg.best_params_\n",
    "print 'Best Naive Bayes Parameters: N/A'"
   ]
  },
  {
   "cell_type": "markdown",
   "metadata": {},
   "source": [
    "### Observations\n",
    "In Logistic Regression, L1 penalty lends itself to sparse datasets, so it makes sense that it led to the highest score. "
   ]
  },
  {
   "cell_type": "markdown",
   "metadata": {},
   "source": [
    "# Measure\n",
    "Since the goal is not to maximize the True Positive predictions but to get a 'probability of failure' while minimizing both False Positives and False negatives, we will evaluate the best F1 scores and the AUC of the models to determine the winner.  "
   ]
  },
  {
   "cell_type": "code",
   "execution_count": 35,
   "metadata": {
    "collapsed": false
   },
   "outputs": [
    {
     "name": "stdout",
     "output_type": "stream",
     "text": [
      "Decision Tree:\n",
      "[[115458   8930]\n",
      " [    39     67]]\n",
      "\n",
      "Random Forest:\n",
      "[[123357   1031]\n",
      " [    96     10]]\n",
      "\n",
      "Logistic Regression:\n",
      "[[119591   4797]\n",
      " [    49     57]]\n",
      "\n",
      "NaiveBayes:\n",
      "[[124160    228]\n",
      " [    98      8]]\n"
     ]
    }
   ],
   "source": [
    "y_pred = [y_dtree.round(), y_randf.round(), y_logreg.round(), y_gnb.round()]\n",
    "\n",
    "#Confusion matrices\n",
    "conf_dtree = confusion_matrix(y_test, y_pred[0])\n",
    "conf_randf = confusion_matrix(y_test, y_pred[1])\n",
    "conf_logreg = confusion_matrix(y_test, y_pred[2])\n",
    "conf_gnb = confusion_matrix(y_test, y_pred[3])\n",
    "\n",
    "print 'Decision Tree:\\n', conf_dtree\n",
    "print '\\nRandom Forest:\\n', conf_randf\n",
    "print '\\nLogistic Regression:\\n', conf_logreg\n",
    "print '\\nNaiveBayes:\\n', conf_gnb"
   ]
  },
  {
   "cell_type": "code",
   "execution_count": 36,
   "metadata": {
    "collapsed": false
   },
   "outputs": [
    {
     "name": "stdout",
     "output_type": "stream",
     "text": [
      "Decision Tree Report:\n",
      "             precision    recall  f1-score   support\n",
      "\n",
      "          1      0.007     0.632     0.015       106\n",
      "\n",
      "avg / total      0.007     0.632     0.015       106\n",
      "\n",
      "Random Forest Report:\n",
      "             precision    recall  f1-score   support\n",
      "\n",
      "          1      0.010     0.094     0.017       106\n",
      "\n",
      "avg / total      0.010     0.094     0.017       106\n",
      "\n",
      "Logistic Regression Report:\n",
      "             precision    recall  f1-score   support\n",
      "\n",
      "          1      0.012     0.538     0.023       106\n",
      "\n",
      "avg / total      0.012     0.538     0.023       106\n",
      "\n",
      "Naive Bayes Report:\n",
      "             precision    recall  f1-score   support\n",
      "\n",
      "          1      0.034     0.075     0.047       106\n",
      "\n",
      "avg / total      0.034     0.075     0.047       106\n",
      "\n"
     ]
    }
   ],
   "source": [
    "#Classification Report\n",
    "report_dtree = classification_report(y_test, y_pred[0], labels=[1], digits=3)\n",
    "report_randf = classification_report(y_test, y_pred[1],labels=[1], digits=3)\n",
    "report_logreg = classification_report(y_test, y_pred[2],labels=[1], digits=3)\n",
    "report_gnb = classification_report(y_test, y_pred[3],labels=[1], digits=3)\n",
    "\n",
    "print 'Decision Tree Report:\\n', report_dtree\n",
    "print 'Random Forest Report:\\n', report_randf\n",
    "print 'Logistic Regression Report:\\n', report_logreg\n",
    "print 'Naive Bayes Report:\\n', report_gnb"
   ]
  },
  {
   "cell_type": "markdown",
   "metadata": {},
   "source": [
    "### Observations\n",
    "Best Precision: Naive Bayes has a much higher Precision than other models at .034.  \n",
    "Best Recall: Decision Tree had the highest recall at 0.632.  \n",
    "Best Fscore: The highest overall performance based on Confusion matrix was by Naive Bayes at an F1 score of 0.047. "
   ]
  },
  {
   "cell_type": "code",
   "execution_count": 37,
   "metadata": {
    "collapsed": false,
    "scrolled": true
   },
   "outputs": [
    {
     "data": {
      "image/png": "[encoded data removed]",
      "text/plain": [
       "<matplotlib.figure.Figure at 0x7f9e6cacb390>"
      ]
     },
     "metadata": {},
     "output_type": "display_data"
    }
   ],
   "source": [
    "# Plot a Historgram of probablilies\n",
    "plt.hist(y_dtree, bins=20, alpha=.3, label='Decision Tree')\n",
    "plt.hist(y_gnb, bins=20, alpha=.3, label='naive Bayes')\n",
    "plt.yscale('log')\n",
    "plt.xlabel('Predicted Probalility of Failure')\n",
    "plt.ylabel('Frequency')\n",
    "plt.legend()\n",
    "plt.show()"
   ]
  },
  {
   "cell_type": "code",
   "execution_count": 38,
   "metadata": {
    "collapsed": false
   },
   "outputs": [
    {
     "data": {
      "image/png": "[encoded data removed]",
      "text/plain": [
       "<matplotlib.figure.Figure at 0x7f9e6cd97610>"
      ]
     },
     "metadata": {},
     "output_type": "display_data"
    }
   ],
   "source": [
    "# Plot a Historgram of probablilies\n",
    "plt.hist(y_randf, bins=20, alpha=.3, label='Random Forest')\n",
    "plt.hist(y_logreg, bins=20, alpha=.3, label='Logistic Regression')\n",
    "plt.yscale('log')\n",
    "plt.xlabel('Predicted Probalility of Failure')\n",
    "plt.ylabel('Frequency')\n",
    "plt.legend()\n",
    "plt.show()"
   ]
  },
  {
   "cell_type": "markdown",
   "metadata": {},
   "source": [
    "### Observations  \n",
    "Decision Tree and Naive Bayes predictions have low prediction probability cardinality.  \n",
    "Random Forest and Logistic Regression have a much smoother distribution of probablilies.  \n",
    "If varying the threshold to increase Precision or Recall is required, Random Forest or Logistic Regression should be used.  "
   ]
  },
  {
   "cell_type": "code",
   "execution_count": 39,
   "metadata": {
    "collapsed": false,
    "scrolled": true
   },
   "outputs": [
    {
     "data": {
      "image/png": "[encoded data removed]",
      "text/plain": [
       "<matplotlib.figure.Figure at 0x7f9e6ca5f510>"
      ]
     },
     "metadata": {},
     "output_type": "display_data"
    }
   ],
   "source": [
    "#Plot the ROC curve\n",
    "fpr_dtree, tpr_dtree, threshold_dtree = roc_curve(y_test, y_dtree)\n",
    "fpr_randf, tpr_randf, threshold_randf = roc_curve(y_test, y_randf)\n",
    "fpr_logreg, tpr_logreg, threshold_logreg = roc_curve(y_test, y_logreg)\n",
    "fpr_gnb, tpr_gnb, threshold_gnb = roc_curve(y_test, y_gnb)\n",
    "\n",
    "plt.plot(fpr_dtree, tpr_dtree, label='Decision Tree')\n",
    "plt.plot(fpr_randf, tpr_randf, label='Random Forest')\n",
    "plt.plot(fpr_logreg, tpr_logreg, label='Logistic Regression')\n",
    "plt.plot(fpr_gnb, tpr_gnb, label='Naive Bayes')\n",
    "plt.xlabel('False positive rate')\n",
    "plt.ylabel('True positive rate')\n",
    "plt.title('ROC curve')\n",
    "plt.legend(loc='best')\n",
    "plt.show()"
   ]
  },
  {
   "cell_type": "code",
   "execution_count": 40,
   "metadata": {
    "collapsed": false
   },
   "outputs": [
    {
     "name": "stdout",
     "output_type": "stream",
     "text": [
      "AUC Decision Tree: 0.771184322215\n",
      "AUC Random Forest: 0.762274814473\n",
      "AUC Logistic Regression: 0.801593735002\n",
      "AUC Naive Bayes: 0.576670321289\n"
     ]
    }
   ],
   "source": [
    "#Calculate the Area Under the Curve\n",
    "auc_dtree = roc_auc_score(y_test, y_dtree)\n",
    "auc_randf = roc_auc_score(y_test, y_randf)\n",
    "auc_logreg = roc_auc_score(y_test, y_logreg)\n",
    "auc_gnb = roc_auc_score(y_test, y_gnb)\n",
    "\n",
    "print 'AUC Decision Tree:', auc_dtree\n",
    "print 'AUC Random Forest:', auc_randf\n",
    "print 'AUC Logistic Regression:', auc_logreg\n",
    "print 'AUC Naive Bayes:', auc_gnb"
   ]
  },
  {
   "cell_type": "markdown",
   "metadata": {},
   "source": [
    "# Results\n",
    "<b>A high AUC is the most useful predictor for high class imbalance problems. </b>  \n",
    "When given a positive and a negative event, it indicates the models propensity to assign a higher probability for a positive event.\n",
    "The ROC curve also explains the discrepency between F1 score and AUC.  \n",
    "Even though Naive Bayes has a higher F1 score, its predictions aren't affected by threshold, leading to a low overall AUC score.\n",
    "\n",
    "The best performing models here are Logistic Regression and surprisingly Decision trees (Random forest wasn't far behind).  \n",
    "<b> Logistic Regression AUC - 0.80    \n",
    "Decision Tree AUC - 0.77   </b> \n",
    "\n",
    "Therefore the best models to consider and improve are Logistic Regression and Decision Trees (Xgboosted trees).\n",
    "***"
   ]
  },
  {
   "cell_type": "markdown",
   "metadata": {},
   "source": [
    "# Conclusion\n",
    "\n",
    "The goal of the model was to predict the probability of device failure.   \n",
    "- After some initial data exploration, it was found that the data set is (~124k observations with 9 attributes), is mostly sparse, doesn't have any missing or categorical data, but has a significant class imbalance.   \n",
    "- After building a quick benchmark model, a more robust model was built with multiple algorithms, grid search parameters, stratified Kfold, and advanced parameter selection and tuning.   \n",
    "- The results from the models were compared using F1 score and AUC.   \n",
    "- Logistic regression and Decision Tree model yielded the most accurate results at 0.79 and 0.77 AUC scores respectively.    \n",
    "- Additional techniques that can be used to improve the model:\n",
    "    - XGBoost.  \n",
    "    - Upsampling using SMOTE.  \n",
    "    - Treat like an anomaly detection supervised learning model.  \n",
    "    - SVM based approaches.  \n",
    "    - Neural network based techniques.  \n"
   ]
  },
  {
   "cell_type": "code",
   "execution_count": null,
   "metadata": {
    "collapsed": true
   },
   "outputs": [],
   "source": []
  }
 ],
 "metadata": {
  "anaconda-cloud": {},
  "kernelspec": {
   "display_name": "Python [conda root]",
   "language": "python",
   "name": "conda-root-py"
  },
  "language_info": {
   "codemirror_mode": {
    "name": "ipython",
    "version": 2
   },
   "file_extension": ".py",
   "mimetype": "text/x-python",
   "name": "python",
   "nbconvert_exporter": "python",
   "pygments_lexer": "ipython2",
   "version": "2.7.13"
  }
 },
 "nbformat": 4,
 "nbformat_minor": 2
}
